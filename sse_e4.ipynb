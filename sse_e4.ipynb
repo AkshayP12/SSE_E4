{
 "cells": [
  {
   "cell_type": "markdown",
   "metadata": {},
   "source": [
    "# Excerise 4"
   ]
  },
  {
   "cell_type": "code",
   "execution_count": 227,
   "metadata": {},
   "outputs": [],
   "source": [
    "import numpy as np\n",
    "import pandas as pd\n",
    "import os\n",
    "import ast\n",
    "import git\n",
    "from git import RemoteProgress\n",
    "from git import Repo\n",
    "from datetime import datetime, date\n",
    "import matplotlib.pyplot as plt\n",
    "import seaborn as sns\n",
    "from time import strptime\n",
    "%matplotlib inline"
   ]
  },
  {
   "cell_type": "code",
   "execution_count": 228,
   "metadata": {},
   "outputs": [],
   "source": [
    "class Progress(RemoteProgress):\n",
    "    def update(self, op_code, cur_count, max_count=None, message=''):\n",
    "        print(self._cur_line)"
   ]
  },
  {
   "cell_type": "markdown",
   "metadata": {},
   "source": [
    "# Git Repo"
   ]
  },
  {
   "cell_type": "code",
   "execution_count": 229,
   "metadata": {},
   "outputs": [],
   "source": [
    "#UAA\n",
    "#remote_link = \"https://github.com/cloudfoundry/uaa\"\n",
    "#local_link = \"C:\\\\Users\\\\User\\\\repo\\\\uaa\"\n",
    "#repo = Repo(local_link)\n",
    "#fixing_commit = \"14350228989e2aee900b8d48a848293bb5152b6f\"\n",
    "#affected_files = [\"server/src/main/resources/login-ui.xml\"] \n",
    "#affected_files = [\"uaa/src/test/java/org/cloudfoundry/identity/uaa/integration/feature/ChangePasswordIT.java\"]\n",
    "#affected_files = [\"uaa/uaa/src/test/java/org/cloudfoundry/identity/uaa/mock/zones/DisableUserManagementSecurityFilterMockMvcTest.java\"]\n",
    "\n",
    "\n",
    "#Tomcat80\n",
    "#remote_link = \"https://github.com/apache/tomcat80\"\n",
    "#local_link = \"C:\\\\Users\\\\User\\\\repo\\\\tomcat80\"\n",
    "#repo = Repo(local_link)\n",
    "#fixing_commit = \"c15c2aba8eb42425f9ebcfcaef579dada38ad3a2\"\n",
    "#affected_files = [\"java/org/apache/catalina/Context.java\"]\n",
    "#affected_files = [\"java/org/apache/catalina/core/StandardContext.java\"]\n",
    "#affected_files = [\"java/org/apache/catalina/core/mbeans-descriptors.xml\"]\n",
    "#affected_files = [\"java/org/apache/catalina/mapper/Mapper.java\"]\n",
    "#affected_files = [\"java/org/apache/catalina/servlets/DefaultServlet.java\"]\n",
    "#affected_files = [\"java/org/apache/catalina/startup/FailedContext.java\"]\n",
    "#affected_files = [\"test/org/apache/catalina/core/TesterContext.java\"]\n",
    "#affected_files = [\"test/org/apache/catalina/mapper/TestMapperWebapps.java\"]\n",
    "#affected_files = [\"test/org/apache/catalina/startup/TomcatBaseTest.java\"]\n",
    "#affected_files = [\"test/org/apache/catalina/valves/rewrite/TestRewriteValve.java\"]\n",
    "#affected_files = [\"webapps/docs/changelog.xml\"]\n",
    "#affected_files = [\"webapps/docs/config/context.xml\"]\n",
    "\n",
    "\n",
    "#Openjpa\n",
    "#remote_link = \"https://github.com/apache/openjpa\"\n",
    "#local_link = \"C:\\\\Users\\\\User\\\\repo\\\\openjpa\"\n",
    "#repo = Repo(local_link)\n",
    "#fixing_commit = \"ad5cd6fb86af8809b367f709b6e041218055de2f\"\n",
    "#affected_files = [\"openjpa-kernel/src/main/java/org/apache/openjpa/kernel/AbstractBrokerFactory.java\"]\n",
    "#affected_files = [\"openjpa-lib/src/main/java/org/apache/openjpa/lib/conf/PluginValue.java\"]\n",
    "#affected_files = [\"openjpa-lib/src/main/resources/org/apache/openjpa/lib/conf/localizer.properties\"]\n",
    "#affected_files = [\"openjpa-slice/src/main/java/org/apache/openjpa/slice/jdbc/DistributedJDBCConfigurationImpl.java\"]\n"
   ]
  },
  {
   "cell_type": "markdown",
   "metadata": {},
   "source": [
    "# Function findStartEnd"
   ]
  },
  {
   "cell_type": "code",
   "execution_count": 230,
   "metadata": {},
   "outputs": [],
   "source": [
    "def findStartEnd(file, line_affected):\n",
    "    start = -1\n",
    "    end = -1\n",
    "    current_line = 1\n",
    "    for line in file:\n",
    "        if current_line == line_affected:\n",
    "            i = current_line\n",
    "            found = False\n",
    "            while not found:\n",
    "                i = i - 1\n",
    "                if i == -1:\n",
    "                    break\n",
    "                if \"{\" in file[i - 1]:\n",
    "                    found = True\n",
    "                    start = i\n",
    "                    break;\n",
    "            found = False\n",
    "            i = current_line\n",
    "            while not found:\n",
    "                i = i + 1\n",
    "                if i >= (len(file) - 1):\n",
    "                    break\n",
    "                if \"}\" in file[i - 1]:\n",
    "                    found = True\n",
    "                    end = i\n",
    "                    break   \n",
    "        current_line = current_line + 1\n",
    "    return start, end   "
   ]
  },
  {
   "cell_type": "markdown",
   "metadata": {},
   "source": [
    "# Function makeList"
   ]
  },
  {
   "cell_type": "code",
   "execution_count": 231,
   "metadata": {},
   "outputs": [],
   "source": [
    "def makeList(input_list, value):\n",
    "    found = False\n",
    "    for item in input_list:\n",
    "        if item[\"commit\"] == value:\n",
    "            item[\"count\"] = item[\"count\"] + 1\n",
    "            found = True\n",
    "    if not found:\n",
    "        input_list.append({\"commit\": value, \"count\": 1})\n",
    "    return input_list"
   ]
  },
  {
   "cell_type": "markdown",
   "metadata": {},
   "source": [
    "# Function findAddDelete"
   ]
  },
  {
   "cell_type": "code",
   "execution_count": 232,
   "metadata": {},
   "outputs": [],
   "source": [
    "def findAddDelete(line):\n",
    "    if line[0] == \"@@\":\n",
    "        delete = line[1]\n",
    "        delete = delete[1:]\n",
    "        delete = delete.split(\",\")\n",
    "        if len(delete) < 2:\n",
    "            delete.append(\"1\")\n",
    "        \n",
    "        add = line[2]\n",
    "        add = add[1:]\n",
    "        add = add.split(\",\")\n",
    "        if len(add) < 2:\n",
    "            add.append(\"1\")\n",
    "                \n",
    "        return add, delete"
   ]
  },
  {
   "cell_type": "markdown",
   "metadata": {},
   "source": [
    "# Function findCommon"
   ]
  },
  {
   "cell_type": "code",
   "execution_count": 233,
   "metadata": {},
   "outputs": [],
   "source": [
    "def findCommon(commits_found, exclude):\n",
    "    maximum = -1\n",
    "    commit_found = None\n",
    "    for commit in commits_found:\n",
    "        if exclude in commit[\"commit\"]:\n",
    "            continue\n",
    "        if commit[\"count\"] > maximum:\n",
    "            commit_found = commit[\"commit\"]\n",
    "            maximum = commit[\"count\"]\n",
    "            \n",
    "    return commit_found, maximum"
   ]
  },
  {
   "cell_type": "markdown",
   "metadata": {},
   "source": [
    "# Function getVCC"
   ]
  },
  {
   "cell_type": "code",
   "execution_count": 234,
   "metadata": {
    "scrolled": false
   },
   "outputs": [],
   "source": [
    "def getVCC(files, parameters):\n",
    "    for file in files:\n",
    "        diff_of_file = repo.git.diff(fixing_commit + \"^\" + \"..\" + fixing_commit, \"-U0\", \"--\", file).splitlines()\n",
    "        diff_of_file = diff_of_file[4:]\n",
    "        raw_commit_file = repo.git.show(fixing_commit + \":\" + file).splitlines()\n",
    "        commits_found = []\n",
    "        i = 0\n",
    "        while i < len(diff_of_file):\n",
    "            split_line = diff_of_file[i].split()\n",
    "            if split_line[0] == \"@@\":\n",
    "                additions, deletions = findAddDelete(split_line)\n",
    "                if deletions[1] != 0:\n",
    "                    j = 0\n",
    "                    line_number = int(deletions[0])\n",
    "                    while j < int(deletions[1]):\n",
    "                        j = j + 1\n",
    "                        affected_file_diff = repo.git.blame(parameters,\"-l\", \"-L\" + str(line_number) + \",\" + str(line_number), fixing_commit, \"--\", file).splitlines()\n",
    "                        split_line = affected_file_diff[0].split()\n",
    "                        makeList(commits_found, split_line[0])\n",
    "                    i = i + j\n",
    "                if additions[1] != 0:\n",
    "                    j = 0\n",
    "                    line_number = int(additions[0])\n",
    "                    while j < int(additions[1]):\n",
    "                        j = j + 1\n",
    "                        start, end = findStartEnd(raw_commit_file, j + line_number)                         \n",
    "                        if start != -1 and end != -1:\n",
    "                            affected_file_diff = repo.git.blame(parameters,\"-l\", \"-L\" + str(start) + \",\" + str(end), fixing_commit, \"--\", file).splitlines()                         \n",
    "                        else:\n",
    "                            affected_file_diff = repo.git.blame(parameters,\"-l\", \"-L\" + str(line_number) + \",\" + str(line_number), fixing_commit, \"--\", file).splitlines()             \n",
    "                        for line in affected_file_diff:\n",
    "                                split_line = line.split()\n",
    "                                makeList(commits_found, split_line[0])\n",
    "                        line_number = line_number + 1\n",
    "                    i = i + j                \n",
    "            i = i + 1\n",
    "    return findCommon(commits_found, fixing_commit)"
   ]
  },
  {
   "cell_type": "markdown",
   "metadata": {},
   "source": [
    "## Get VCC ID"
   ]
  },
  {
   "cell_type": "code",
   "execution_count": 235,
   "metadata": {},
   "outputs": [
    {
     "name": "stdout",
     "output_type": "stream",
     "text": [
      "VCC Commit: af47a8b79b0fa07ff2c038197a07c09b745802ac\n"
     ]
    }
   ],
   "source": [
    "parameters = None\n",
    "# parameters = \"-w\"\n",
    "# parameters = \"-wM\"\n",
    "# parameters = \"-wC\"\n",
    "# parameters = \"-wCC\"\n",
    "# parameters = \"-wCCC\"\n",
    "\n",
    "VCC = getVCC(affected_files, parameters)\n",
    "print(\"VCC Commit:\", VCC[0])"
   ]
  },
  {
   "cell_type": "markdown",
   "metadata": {},
   "source": [
    "## Questions Answers"
   ]
  },
  {
   "cell_type": "code",
   "execution_count": null,
   "metadata": {},
   "outputs": [],
   "source": [
    "show_data = repo.git.show(\"-s\", vcc_commit).splitlines()\n",
    "for line in show_data:\n",
    "    print(line)\n",
    "    \n",
    "show_data = repo.git.show(\"-s\", fixing_commit).splitlines()\n",
    "for line in show_data:\n",
    "    print(line)"
   ]
  },
  {
   "cell_type": "code",
   "execution_count": null,
   "metadata": {},
   "outputs": [],
   "source": [
    "def convertToDate(input_date):\n",
    "    split = input_date.split()\n",
    "    year = split[4]\n",
    "    month = strptime(split[1],'%b').tm_mon\n",
    "    day = split[2]\n",
    "    return date(year = int(year), month = month, day = int(day))\n",
    "\n",
    "for affected_file in affected_files:\n",
    "    dates = repo.git.log(\"--format=%ad\", vcc_commit, \"--\", affected_file).splitlines()\n",
    "    if len(dates) <= 0:\n",
    "        print(\"File not in this commit: \", affected_file)\n",
    "        continue\n",
    "    date1_object = convertToDate(dates[0])\n",
    "    if len(dates) < 2:\n",
    "        print(\"No changes made\")\n",
    "    else:    \n",
    "        date2_object = convertToDate(dates[1])\n",
    "        total_days = abs((date1_object - date2_object).days)\n",
    "        print(\"Total days since file\", os.path.basename(affected_file), \"changed:\", total_days)"
   ]
  }
 ],
 "metadata": {
  "kernelspec": {
   "display_name": "Python 3",
   "language": "python",
   "name": "python3"
  },
  "language_info": {
   "codemirror_mode": {
    "name": "ipython",
    "version": 3
   },
   "file_extension": ".py",
   "mimetype": "text/x-python",
   "name": "python",
   "nbconvert_exporter": "python",
   "pygments_lexer": "ipython3",
   "version": "3.7.4"
  }
 },
 "nbformat": 4,
 "nbformat_minor": 2
}
